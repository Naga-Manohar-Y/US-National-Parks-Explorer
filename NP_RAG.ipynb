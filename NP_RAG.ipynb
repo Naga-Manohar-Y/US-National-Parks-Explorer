{
 "cells": [
  {
   "cell_type": "code",
   "execution_count": 1,
   "id": "3b488ad6-bbb3-45d1-998b-9bba2089c4a9",
   "metadata": {},
   "outputs": [
    {
     "name": "stdout",
     "output_type": "stream",
     "text": [
      "--2024-09-26 19:39:14--  https://raw.githubusercontent.com/alexeygrigorev/minsearch/main/minsearch.py\n",
      "Resolving raw.githubusercontent.com (raw.githubusercontent.com)... 185.199.110.133, 185.199.111.133, 185.199.108.133, ...\n",
      "Connecting to raw.githubusercontent.com (raw.githubusercontent.com)|185.199.110.133|:443... connected.\n",
      "HTTP request sent, awaiting response... 200 OK\n",
      "Length: 3832 (3.7K) [text/plain]\n",
      "Saving to: ‘minsearch.py’\n",
      "\n",
      "minsearch.py        100%[===================>]   3.74K  --.-KB/s    in 0s      \n",
      "\n",
      "2024-09-26 19:39:14 (9.80 MB/s) - ‘minsearch.py’ saved [3832/3832]\n",
      "\n"
     ]
    }
   ],
   "source": [
    "!wget https://raw.githubusercontent.com/alexeygrigorev/minsearch/main/minsearch.py"
   ]
  },
  {
   "cell_type": "markdown",
   "id": "92ac3eaf",
   "metadata": {},
   "source": [
    "#### Minisearch"
   ]
  },
  {
   "cell_type": "code",
   "execution_count": 27,
   "id": "ae377890-e43a-41e6-8911-b693cf749a80",
   "metadata": {},
   "outputs": [],
   "source": [
    "import minsearch\n",
    "import json\n",
    "with open('simplified_national_parks_data.json', 'rt') as f_in:\n",
    "    docs_raw = json.load(f_in)\n"
   ]
  },
  {
   "cell_type": "markdown",
   "id": "eb833b6f",
   "metadata": {},
   "source": [
    "#### Elastic Search"
   ]
  },
  {
   "cell_type": "code",
   "execution_count": 28,
   "id": "6de0a0f5",
   "metadata": {},
   "outputs": [],
   "source": [
    "import elasticsearch as es\n",
    "index_name = 'parks'"
   ]
  },
  {
   "cell_type": "markdown",
   "id": "4c160dce-2e98-4b1c-99e3-d158192da04e",
   "metadata": {},
   "source": [
    "https://github.com/DataTalksClub/llm-zoomcamp/blob/main/02-open-source/huggingface-mistral-7b.ipynb"
   ]
  },
  {
   "cell_type": "code",
   "execution_count": 29,
   "id": "9a86dc82",
   "metadata": {},
   "outputs": [],
   "source": [
    "from elasticsearch import Elasticsearch, helpers\n",
    "\n",
    "# Initialize Elasticsearch client\n",
    "# es = Elasticsearch([{'host': 'localhost', 'port': 9200}])\n",
    "# Connect without SSL\n",
    "es = Elasticsearch(\"http://localhost:9200\")\n",
    "\n"
   ]
  },
  {
   "cell_type": "code",
   "execution_count": 30,
   "id": "cc47d802",
   "metadata": {},
   "outputs": [
    {
     "data": {
      "text/plain": [
       "<Elasticsearch(['http://localhost:9200'])>"
      ]
     },
     "execution_count": 30,
     "metadata": {},
     "output_type": "execute_result"
    }
   ],
   "source": [
    "es"
   ]
  },
  {
   "cell_type": "code",
   "execution_count": 31,
   "id": "281e1ef0-c339-40a7-8e77-ef16af61777e",
   "metadata": {},
   "outputs": [
    {
     "name": "stdout",
     "output_type": "stream",
     "text": [
      "Index 'parks' already exists. Deleting and recreating it.\n",
      "Data indexed successfully.\n"
     ]
    }
   ],
   "source": [
    "\n",
    "# Define your index schema (mapping) with additional fields\n",
    "index_name = \"parks\"\n",
    "mapping = {\n",
    "    \"mappings\": {\n",
    "        \"properties\": {\n",
    "            \"description\": {\"type\": \"text\"},\n",
    "            \"activities\": {\"type\": \"text\"},\n",
    "            \"topics\": {\"type\": \"text\"},\n",
    "            \"weatherInfo\": {\"type\": \"text\"},\n",
    "            \"fullName\": {\"type\": \"text\"},\n",
    "            \"parkCode\": {\"type\": \"keyword\"},\n",
    "            \"states\": {\"type\": \"text\"},\n",
    "            \"contacts\": {\"type\": \"text\"},  # Simplified contacts as text\n",
    "            \"url\": {\"type\": \"text\"},\n",
    "            \"directionsInfo\": {\"type\": \"text\"},\n",
    "            \"directionsUrl\": {\"type\": \"text\"},\n",
    "            \"addresses\": {\"type\": \"text\"},\n",
    "            # \"images\": {\n",
    "            #     \"type\": \"nested\",  # Since images are a list of objects\n",
    "            #     \"properties\": {\n",
    "            #         \"title\": {\"type\": \"text\"},\n",
    "            #         \"url\": {\"type\": \"text\"}\n",
    "            #     }\n",
    "            # }\n",
    "        }\n",
    "    }\n",
    "}\n",
    "\n",
    "# Check if the index exists and create it if it doesn't\n",
    "if es.indices.exists(index=index_name):\n",
    "    print(f\"Index '{index_name}' already exists. Deleting and recreating it.\")\n",
    "    es.indices.delete(index=index_name)\n",
    "\n",
    "# Create the index with the mapping\n",
    "es.indices.create(index=index_name, body=mapping)\n",
    "\n",
    "\n",
    "# Prepare the documents (in the format Elasticsearch expects)\n",
    "docs = [\n",
    "    {\n",
    "        '_index': index_name,\n",
    "        '_source': {\n",
    "            'id': doc['id'],\n",
    "            'url': doc['url'],\n",
    "            'fullName': doc['fullName'],\n",
    "            'parkCode': doc['parkCode'],\n",
    "            'description': doc['description'],\n",
    "            'activities': ' '.join(doc['activities']),  # Join activities into a single string\n",
    "            'topics': ' '.join(doc['topics']),  # Join topics into a single string\n",
    "            'states': doc['states'],\n",
    "            'contacts': doc['contacts'],  # Using the simplified contacts as text\n",
    "            'directionsInfo': doc['directionsInfo'],\n",
    "            'directionsUrl': doc['directionsUrl'],\n",
    "            'addresses': doc['addresses'],  # Simplified addresses as text\n",
    "            # 'images': doc['images'],  # Nested images structure\n",
    "            'weatherInfo': doc.get('weatherInfo', '')\n",
    "        }\n",
    "    } for doc in docs_raw\n",
    "]\n",
    "\n",
    "# Bulk insert the documents into Elasticsearch\n",
    "helpers.bulk(es, docs)\n",
    "\n",
    "print(\"Data indexed successfully.\")\n"
   ]
  },
  {
   "cell_type": "code",
   "execution_count": 32,
   "id": "a9e9cc79-7060-478a-af69-05522d343a56",
   "metadata": {},
   "outputs": [],
   "source": [
    "def search_elasticsearch(query, filters=None, boost_fields=None, num_results=10):\n",
    "    \"\"\"\n",
    "    Search Elasticsearch index with optional filters and boosting.\n",
    "\n",
    "    Args:\n",
    "        query (str): The search query string.\n",
    "        filters (dict): Keyword fields to filter by.\n",
    "        boost_fields (dict): Fields to apply boosting.\n",
    "        num_results (int): Number of results to return.\n",
    "\n",
    "    Returns:\n",
    "        list of dict: List of matched documents with scores.\n",
    "    \"\"\"\n",
    "    search_body = {\n",
    "        \"query\": {\n",
    "            \"bool\": {\n",
    "                \"must\": {\n",
    "                    \"multi_match\": {\n",
    "                        \"query\": query,\n",
    "                        \"fields\": [\"description\", \"activities\", \"topics\", \"weatherInfo\", \"fullName\", \"addresses\", \"url\"]\n",
    "                    }\n",
    "                },\n",
    "                \"filter\": [\n",
    "                    {\"term\": {key: value}} for key, value in (filters or {}).items()\n",
    "                ]\n",
    "            }\n",
    "        },\n",
    "        \"size\": num_results\n",
    "    }\n",
    "\n",
    "    # Add boosting if specified\n",
    "    if boost_fields:\n",
    "        must_queries = [\n",
    "            {\n",
    "                \"multi_match\": {\n",
    "                    \"query\": query,\n",
    "                    \"fields\": [\"description\", \"activities\", \"topics\", \"weatherInfo\", \"fullName\", \"addresses\", \"url\"]\n",
    "                }\n",
    "            }\n",
    "        ]\n",
    "        \n",
    "        for field, boost in boost_fields.items():\n",
    "            must_queries.append({\n",
    "                \"match\": {\n",
    "                    field: {\n",
    "                        \"query\": query,\n",
    "                        \"boost\": boost\n",
    "                    }\n",
    "                }\n",
    "            })\n",
    "\n",
    "        search_body['query']['bool']['must'] = must_queries\n",
    "\n",
    "    # Perform the search\n",
    "    try:\n",
    "        response = es.search(index=index_name, body=search_body)\n",
    "        return [{\"_source\": hit['_source'], \"_score\": hit['_score']} for hit in response['hits']['hits']]\n",
    "    except Exception as e:\n",
    "        print(f\"Error occurred while searching: {e}\")\n",
    "        return []"
   ]
  },
  {
   "cell_type": "code",
   "execution_count": 33,
   "id": "9f3d26bc",
   "metadata": {},
   "outputs": [
    {
     "name": "stdout",
     "output_type": "stream",
     "text": [
      "[{'_source': {'id': 'D9819727-18DF-4A84-BDDE-D4F2696DE340', 'url': 'https://www.nps.gov/grsm/index.htm', 'fullName': 'Great Smoky Mountains National Park', 'parkCode': 'grsm', 'description': \"Ridge upon ridge of forest straddles the border between North Carolina and Tennessee in Great Smoky Mountains National Park. World renowned for its diversity of plant and animal life, the beauty of its ancient mountains, and the quality of its remnants of Southern Appalachian mountain culture, this is America's most visited national park. Plan your visit today!\", 'activities': 'Arts and Culture Live Music Auto and ATV Scenic Driving Astronomy Stargazing Biking Road Biking Camping Backcountry Camping Car or Front Country Camping Horse Camping (see also Horse/Stock Use) Group Camping RV Camping Fishing Freshwater Fishing Fly Fishing Food Picnicking Guided Tours Self-Guided Tours - Auto Hands-On Citizen Science Hiking Backcountry Hiking Front-Country Hiking Horse Trekking Horse Camping (see also camping) Horseback Riding Junior Ranger Program Wildlife Watching Birdwatching Park Film Museum Exhibits Shopping Bookstore and Park Store', 'topics': '', 'states': 'NC,TN', 'contacts': '(865)436-1200, GRSM_Smokies_Information@nps.gov', 'directionsInfo': 'Great Smoky Mountains National Park straddles the borders of the states of Tennessee and North Carolina. The three main entrances to the park are in Gatlinburg, TN; Townsend, TN; and Cherokee, NC.', 'directionsUrl': 'http://www.nps.gov/grsm/planyourvisit/directions.htm', 'addresses': '107 Park Headquarters Road, Gatlinburg, TN, US', 'weatherInfo': 'Elevations in the park range from approximately 875 feet (267 meters) to 6,643 feet (2,025 meters) and the topography can drastically affect local weather. Temperatures can vary by 10-20 degrees Fahrenheit from mountain base to top, and clear skies lower down do not guarantee equally pleasant weather at higher elevations.'}, '_score': 19.713219}, {'_source': {'id': '6510001B-685D-4688-A963-4ECE7AB609DB', 'url': 'https://www.nps.gov/gumo/index.htm', 'fullName': 'Guadalupe Mountains National Park', 'parkCode': 'gumo', 'description': \"Come experience mountains and canyons, desert and dunes, night skies and spectacular vistas within a place unlike any other. Guadalupe Mountains National Park protects the world's most extensive Permian fossil reef, the four highest peaks in Texas, an environmentally diverse collection of flora and fauna, and the stories of lives shaped through conflict, cooperation and survival.\", 'activities': 'Auto and ATV Auto Off-Roading Camping Backcountry Camping Car or Front Country Camping Horse Camping (see also Horse/Stock Use) Group Camping RV Camping Guided Tours Self-Guided Tours - Walking Hiking Backcountry Hiking Front-Country Hiking Horse Trekking Horse Camping (see also camping) Horseback Riding Junior Ranger Program Wildlife Watching Birdwatching Museum Exhibits', 'topics': 'Archeology Ruins Colonization and Settlement Farming and  Agriculture Ranches Military US Army Native American Heritage Transportation Roads, Routes and Highways Animals Birds Canyons and Canyonlands Dunes Fire Fossils and Paleontology Geology Mountains Rock Landscapes and Features Trails', 'states': 'TX', 'contacts': '915-828-3251, gumo_information@nps.gov', 'directionsInfo': 'Guadalupe Mountains National Park is located on the north side of US Hwy 62/180. If you are traveling east from El Paso, TX, we are 110 miles East of the city. Follow US Hwy 62/180 North to the Pine Springs Visitor Center. If you are traveling from Van Horn, TX, you will travel north on US 54 and make a right-hand turn at the junction of US 62/180 to arrive at the park. If you are traveling west from Carlsbad, NM, you will travel on US Hwy 62/180 South and cross into Texas. Follow signs to the park.', 'directionsUrl': 'http://www.nps.gov/gumo/planyourvisit/directions.htm', 'addresses': '400 Pine Canyon, Salt Flat, TX, US', 'weatherInfo': 'The Guadalupe Mountains are known for high winds year-round; gusts can reach 60MPH or higher. In winter the mountains experiences occasional, light snowfalls which seldom last more than a day. From May through October, temperatures vary with highs between 80F-100F+ with lows in the 40F-60F range. November to April is generally milder with highs in between 50F-70F with lows in the 30F-50F range. Elevations above 8,000’ will be about 10F cooler than headquarters, with corresponding wind-chill.'}, '_score': 8.79369}, {'_source': {'id': '5F76F85B-23F4-4616-AA0B-A26E8DE76593', 'url': 'https://www.nps.gov/lacl/index.htm', 'fullName': 'Lake Clark National Park & Preserve', 'parkCode': 'lacl', 'description': 'Lake Clark National Park and Preserve is a land of stunning beauty. Volcanoes steam, salmon run, bears forage, and craggy mountains reflect in shimmering turquoise lakes. Here, too, local people and culture still depend on the land and water. Venture into the park to become part of the wilderness.', 'activities': 'Astronomy Stargazing Biking Boating Motorized Boating Camping Backcountry Camping Canoe or Kayak Camping Climbing Mountain Climbing Compass and GPS Orienteering Fishing Freshwater Fishing Fly Fishing Flying Fixed Wing Flying Guided Tours Self-Guided Tours - Walking Hiking Backcountry Hiking Front-Country Hiking Off-Trail Permitted Hiking Hunting and Gathering Hunting Paddling Canoeing Canoe or Kayak Camping Kayaking Stand Up Paddleboarding Junior Ranger Program Skiing Cross-Country Skiing Snow Play Snowshoeing Wildlife Watching Birdwatching Shopping Bookstore and Park Store', 'topics': 'Archeology Arts Photography Aviation Explorers and Expeditions Farming and  Agriculture Industry Mining Native American Heritage Animals Birds Fish Wolves Arctic Tundra Climate Change Coasts, Islands and Atolls Estuaries and Mangroves Fire Forests and Woodlands Fossils and Paleontology Geology Glaciers Grasslands Meadows Lakes Mountains Natural Sounds Night Sky Astronomy Aurora Borealis Oceans River and Riparian Scenic Views Trails Volcanoes Watersheds Headwaters Waterfalls Wetlands Marshes Wilderness', 'states': 'AK', 'contacts': '9076443626, lacl_visitor_information@nps.gov', 'directionsInfo': 'Lake Clark is located on the Alaska Peninsula southwest of Anchorage and north of Katmai National Park. It is not on the road system; therefore, in order to get here you must travel either via plane or by boat. A one to two-hour flight from Anchorage, Kenai, or Homer will provide access to most points within Lake Clark. Fixed-wing aircraft are allowed to land on all suitable lakes, rivers, beaches, gravel bars, and open ground in both the park and preserve unless the area is closed or otherwise restricted.', 'directionsUrl': 'http://www.nps.gov/lacl/planyourvisit/directions.htm', 'addresses': '1 Park Place, Port Alsworth, AK, US', 'weatherInfo': 'Lake Clark has two distinct climate areas: the coast and the interior. The coast is wetter and experiences milder temperatures. The interior gets half to one fourth as much precipitation, but temperatures are hotter in summer and colder in winter. Frost and snow can occur any time parkwide, but are most common from September to early June. Lakes here typically begins freezing in November and melting in April. Ice conditions dictate whether planes need floats or skis to land on lakes.'}, '_score': 6.4639053}, {'_source': {'id': 'FF73E2AA-E274-44E1-A8F5-9DD998B0F579', 'url': 'https://www.nps.gov/grte/index.htm', 'fullName': 'Grand Teton National Park', 'parkCode': 'grte', 'description': 'Soaring over a landscape rich with wildlife, pristine lakes, and majestic alpine vistas, the Teton Range stands as a testament to generations of stewards. For over 11,000 years, communities have thrived in the valley known as Jackson Hole, turning these mountains into more than just peaks—they embody imagination and enduring human connection.', 'activities': 'Arts and Culture Cultural Demonstrations Auto and ATV Scenic Driving Biking Road Biking Boating Motorized Boating Sailing Boat Tour Camping Backcountry Camping Canoe or Kayak Camping Car or Front Country Camping Horse Camping (see also Horse/Stock Use) Group Camping RV Camping Climbing Rock Climbing Mountain Climbing Ice Climbing Fishing Freshwater Fishing Fly Fishing Food Dining Guided Tours Self-Guided Tours - Auto Boat Tour Hiking Backcountry Hiking Front-Country Hiking Off-Trail Permitted Hiking Horse Trekking Horse Camping (see also camping) Horseback Riding Hunting and Gathering Hunting Paddling Canoeing Canoe or Kayak Camping Kayaking Stand Up Paddleboarding Junior Ranger Program Skiing Cross-Country Skiing Snow Play Snowmobiling Snowshoeing Water Skiing Wildlife Watching Birdwatching Shopping Bookstore and Park Store', 'topics': 'Architecture and Building Explorers and Expeditions Farming and  Agriculture Ranches Native American Heritage Westward Expansion Homesteading Animals Bison Elk Wolves Climate Change Fire Forests and Woodlands Geology Glaciers Lakes Mountains Scenic Views Unique Species Endangered Wilderness', 'states': 'WY', 'contacts': '307-739-3399, grte_info@nps.gov', 'directionsInfo': 'Grand Teton National Park is located in northwestern Wyoming; north of the town of Jackson, Wyoming and south of Yellowstone National Park. By car from Salt Lake City, Utah is approximately 300 miles and about 5-6 hours from the park and from Denver, Colorado is approximately 550 miles and about 8-10 hours from the park. Grand Teton National Park is unique in that it is the only national park that has a commercial airport within its border, Jackson Hole Airport (JAC). For current road info:', 'directionsUrl': 'http://www.nps.gov/grte/planyourvisit/directions.htm', 'addresses': '103 Headquarters Loop, Moose, WY, US', 'weatherInfo': 'Grand Teton National Park has long, cold winters—snow and frost are possible any month. April, May, & June - Mild days and cool nights alternate with rain and snow. July & August - Warm days and cool nights prevail, with afternoon thundershowers common. September, October, & November - Sunny days and cold nights alternate with rain and occasional snowstorms. December to April - Between storms the days are sunny and nights are frigid. Snow blankets the mountains and valley.'}, '_score': 6.2772007}, {'_source': {'id': '7E5A693C-2F63-44FD-B791-31FC8B8B6285', 'url': 'https://www.nps.gov/seki/index.htm', 'fullName': 'Sequoia & Kings Canyon National Parks', 'parkCode': 'seki', 'description': 'Huge mountains, rugged foothills, deep canyons, vast caverns, and the world’s largest trees exemplify the diversity of landscapes, life, and beauty here. Explore these pages to plan your visit or to learn about the plants and animals here and the threats they face. Ancient giant sequoias may seem invincible, but they, too are vulnerable.', 'activities': 'Auto and ATV Scenic Driving Astronomy Stargazing Camping Backcountry Camping Car or Front Country Camping Horse Camping (see also Horse/Stock Use) Group Camping RV Camping Caving Climbing Rock Climbing Fishing Freshwater Fishing Fly Fishing Food Dining Picnicking Guided Tours Hands-On Citizen Science Hiking Backcountry Hiking Front-Country Hiking Horse Trekking Horseback Riding Junior Ranger Program Skiing Cross-Country Skiing Snow Play Snowshoeing Wildlife Watching Birdwatching Park Film Museum Exhibits Shopping Bookstore and Park Store Gift Shop and Souvenirs', 'topics': 'African American Heritage Arts Painting Photography Poetry and Literature Transportation Roads, Routes and Highways Animals Birds Caves, Caverns and Karst Canyons and Canyonlands Climate Change Fire Foothills, Plains and Valleys Forests and Woodlands Coniferous Forests Geology Grasslands Meadows Lakes Mountains Natural Sounds Night Sky Astronomy River and Riparian Rock Landscapes and Features Scenic Views Trails Unique Species Rare Endangered Watersheds Headwaters Wilderness', 'states': 'CA', 'contacts': '5595653341, SEKI_information@nps.gov', 'directionsInfo': 'Two highways enter the parks. Hwy 180 from Fresno leads east to Kings Canyon National Park, then continues 30 miles east to Cedar Grove. Hwy 198 from Visalia leads east to Sequoia National Park via Three Rivers. Inside the parks, Highway 198 becomes the Generals Highway, which connects 198 to 180. Vehicles over 22-feet long should enter the parks via Highway 180. In winter, the Generals Highway between the parks often closes. Chains may be required on park roads. No roads cross these parks east to west.', 'directionsUrl': 'http://www.nps.gov/seki/planyourvisit/directions.htm', 'addresses': '47050 Generals Highway, Three Rivers, CA, US', 'weatherInfo': 'Because of the extreme elevation range in the parks, weather conditions vary widely between areas. In summer, the sequoia groves have comfortable temperatures and the foothills are hot and dry. Snow lingers on high-mountain passes well into summer. In fall, conditions can range from summer-like to winter-like. Winter brings snow to sequoia groves and rain to the foothills. Be prepared for tire chain requirements. Spring is a great time to hike in the foothills and snow begins to melt at higher elevations.'}, '_score': 6.1823177}]\n"
     ]
    }
   ],
   "source": [
    "\n",
    "# Example search query\n",
    "results = search_elasticsearch(query=\"smoky mountains\", boost_fields={\"description\": 2.0}, num_results=5)\n",
    "print(results)"
   ]
  },
  {
   "cell_type": "code",
   "execution_count": 34,
   "id": "2f5eec25-3f05-4300-9c4b-cff247e9c1c9",
   "metadata": {},
   "outputs": [
    {
     "name": "stdout",
     "output_type": "stream",
     "text": [
      "Total documents in index: 62\n"
     ]
    }
   ],
   "source": [
    "count_response = es.count(index=index_name)\n",
    "print(\"Total documents in index:\", count_response['count'])\n"
   ]
  },
  {
   "cell_type": "code",
   "execution_count": 35,
   "id": "6fa79464-b7a3-4fa9-8536-f8d8b309817f",
   "metadata": {},
   "outputs": [],
   "source": [
    "# from getpass import getpass\n",
    "\n",
    "# HUGGINGFACEHUB_API_TOKEN = getpass()"
   ]
  },
  {
   "cell_type": "markdown",
   "id": "26c336c4",
   "metadata": {},
   "source": [
    "Read HF token from env varaibles"
   ]
  },
  {
   "cell_type": "code",
   "execution_count": 36,
   "id": "8ccef367",
   "metadata": {},
   "outputs": [
    {
     "data": {
      "text/plain": [
       "True"
      ]
     },
     "execution_count": 36,
     "metadata": {},
     "output_type": "execute_result"
    }
   ],
   "source": [
    "from dotenv import load_dotenv\n",
    "from pathlib import Path\n",
    "import os\n",
    "# load_dotenv(dotenv_path=Path(__file__).resolve().parent.parent / '.env')\n",
    "load_dotenv(dotenv_path='.env')"
   ]
  },
  {
   "cell_type": "code",
   "execution_count": 37,
   "id": "c61f8dc5",
   "metadata": {},
   "outputs": [],
   "source": [
    "HUGGINGFACEHUB_API_TOKEN = os.getenv('HF_TOKEN')"
   ]
  },
  {
   "cell_type": "code",
   "execution_count": 38,
   "id": "d6fa677a-375f-496c-aa86-87f97c3885a0",
   "metadata": {},
   "outputs": [
    {
     "name": "stdout",
     "output_type": "stream",
     "text": [
      "The token has not been saved to the git credentials helper. Pass `add_to_git_credential=True` in this function directly or `--add-to-git-credential` if using via `huggingface-cli` if you want to set the git credential as well.\n",
      "Token is valid (permission: read).\n",
      "Your token has been saved to C:\\Users\\h4has\\.cache\\huggingface\\token\n",
      "Login successful\n"
     ]
    }
   ],
   "source": [
    "from langchain_huggingface import HuggingFaceEndpoint\n",
    "\n",
    "llm_h = HuggingFaceEndpoint(\n",
    "    repo_id=\"meta-llama/Meta-Llama-3-8B-Instruct\",\n",
    "    task=\"text-generation\",\n",
    "    max_new_tokens=512,\n",
    "    do_sample=False,\n",
    "    repetition_penalty=1.03,\n",
    "    huggingfacehub_api_token=HUGGINGFACEHUB_API_TOKEN,\n",
    ")"
   ]
  },
  {
   "cell_type": "code",
   "execution_count": 39,
   "id": "4308366a-b6f5-4f5f-b611-7683931bc571",
   "metadata": {
    "scrolled": true
   },
   "outputs": [
    {
     "name": "stdout",
     "output_type": "stream",
     "text": [
      "The token has not been saved to the git credentials helper. Pass `add_to_git_credential=True` in this function directly or `--add-to-git-credential` if using via `huggingface-cli` if you want to set the git credential as well.\n",
      "Token is valid (permission: read).\n",
      "Your token has been saved to C:\\Users\\h4has\\.cache\\huggingface\\token\n",
      "Login successful\n",
      "\n",
      "\n",
      "[DEBUG] Running RAG Pipeline...\n",
      "You're a park information assistant. Answer the QUESTION based on the CONTEXT from the parks database.\n",
      "Use only the facts from the CONTEXT when answering the QUESTION.\n",
      "\n",
      "QUESTION: What activities can I do at Acadia National Park?\n",
      "\n",
      "CONTEXT: \n",
      "Full Name: Great Smoky Mountains National Park\n",
      "Description: Ridge upon ridge of forest straddles the border between North Carolina and Tennessee in Great Smoky Mountains National Park. World renowned for its diversity of plant and animal life, the beauty of its ancient mountains, and the quality of its remnants of Southern Appalachian mountain culture, this is America's most visited national park. Plan your visit today!\n",
      "Activities: Arts and Culture Live Music Auto and ATV Scenic Driving Astronomy Stargazing Biking Road Biking Camping Backcountry Camping Car or Front Country Camping Horse Camping (see also Horse/Stock Use) Group Camping RV Camping Fishing Freshwater Fishing Fly Fishing Food Picnicking Guided Tours Self-Guided Tours - Auto Hands-On Citizen Science Hiking Backcountry Hiking Front-Country Hiking Horse Trekking Horse Camping (see also camping) Horseback Riding Junior Ranger Program Wildlife Watching Birdwatching Park Film Museum Exhibits Shopping Bookstore and Park Store\n",
      "Topics: \n",
      "Weather Info: Elevations in the park range from approximately 875 feet (267 meters) to 6,643 feet (2,025 meters) and the topography can drastically affect local weather. Temperatures can vary by 10-20 degrees Fahrenheit from mountain base to top, and clear skies lower down do not guarantee equally pleasant weather at higher elevations.\n",
      "Address: 107 Park Headquarters Road, Gatlinburg, TN, US\n",
      "\n",
      "Full Name: Acadia National Park\n",
      "Description: Acadia National Park protects the natural beauty of the highest rocky headlands along the Atlantic coastline of the United States, an abundance of habitats, and a rich cultural heritage. At 4 million visits a year, it's one of the top 10 most-visited national parks in the United States. Visitors enjoy 27 miles of historic motor roads, 158 miles of hiking trails, and 45 miles of carriage roads.\n",
      "Activities: Arts and Culture Cultural Demonstrations Astronomy Stargazing Biking Boating Camping Group Camping Climbing Rock Climbing Compass and GPS Geocaching Fishing Freshwater Fishing Fly Fishing Saltwater Fishing Food Picnicking Guided Tours Bus/Shuttle Guided Tour Boat Tour Hands-On Citizen Science Hiking Front-Country Hiking Horse Trekking Horseback Riding Ice Skating Paddling Canoeing Kayaking Stand Up Paddleboarding Junior Ranger Program Skiing Cross-Country Skiing Snow Play Snowmobiling Snowshoeing Swimming Freshwater Swimming Saltwater Swimming Wildlife Watching Birdwatching Park Film Shopping Bookstore and Park Store\n",
      "Topics: Arts Painting Photography Poetry and Literature Sculpture Colonization and Settlement Maritime Lighthouses Monuments and Memorials Schools and Education Transportation Bridges Roads, Routes and Highways Tragic Events Catastrophic Fires Women's History Animals Birds Fish Climate Change Fire Forests and Woodlands Geology Lakes Mountains Night Sky Astronomy Oceans Rock Landscapes and Features Trails Wetlands\n",
      "Weather Info: Located on Mount Desert Island in Maine, Acadia experiences all four seasons. Summer temperatures range from 45-90F (7-30C). Fall temperatures range from 30-70F (-1-21C). Typically the first frost is in mid-October and first snowfall begins in November and can continue through April with an average accumulation of 73 inches (185 cm). Winter temperatures range from 14-35F (-10 - 2C). Spring temperatures range from 30-70F (-1-21C).\n",
      "Address: 25 Visitor Center Road, Hulls Cove Visitor Center, Bar Harbor, ME, US\n",
      "\n",
      "\n",
      "[DEBUG] Calling HF API for llm response...\n",
      "\n",
      "\n"
     ]
    }
   ],
   "source": [
    "from langchain_huggingface import HuggingFaceEndpoint\n",
    "from elasticsearch import Elasticsearch\n",
    "\n",
    "# Initialize Hugging Face client\n",
    "llm_h = HuggingFaceEndpoint(\n",
    "    repo_id=\"mistralai/Mistral-7B-Instruct-v0.2\",\n",
    "    task=\"text-generation\",\n",
    "    max_new_tokens=512,\n",
    "    do_sample=False,\n",
    "    repetition_penalty=1.03,\n",
    "    huggingfacehub_api_token=HUGGINGFACEHUB_API_TOKEN,\n",
    ")\n",
    "\n",
    "# Initialize Elasticsearch client\n",
    "# es = Elasticsearch([{'host': 'localhost', 'port': 9200}])\n",
    "\n",
    "# Search function to query Elasticsearch\n",
    "def search_elasticsearch(query, filters=None, num_results=2):\n",
    "    search_body = {\n",
    "        \"query\": {\n",
    "            \"bool\": {\n",
    "                \"must\": {\n",
    "                    \"multi_match\": {\n",
    "                        \"query\": query,\n",
    "                        \"fields\": [\"description\", \"activities\", \"topics\", \"weatherInfo\", \"fullName\", \"states\", \"addresses\", \"url\"]\n",
    "                    }\n",
    "                },\n",
    "                \"filter\": [\n",
    "                    {\"term\": {key: value}} for key, value in (filters or {}).items()\n",
    "                ]\n",
    "            }\n",
    "        },\n",
    "        \"size\": num_results\n",
    "    }\n",
    "\n",
    "    response = es.search(index=\"parks\", **search_body)  # Updated to use parameter unpacking\n",
    "    return [hit['_source'] for hit in response['hits']['hits']]\n",
    "\n",
    "# Function to build the prompt for Hugging Face\n",
    "def build_prompt(query, search_results):\n",
    "    prompt_template = \"\"\"\n",
    "You're a park information assistant. Answer the QUESTION based on the CONTEXT from the parks database.\n",
    "Use only the facts from the CONTEXT when answering the QUESTION.\n",
    "\n",
    "QUESTION: {question}\n",
    "\n",
    "CONTEXT: \n",
    "{context}\n",
    "\"\"\".strip()\n",
    "\n",
    "    context = \"\"\n",
    "    \n",
    "    for doc in search_results:\n",
    "        context += f\"Full Name: {doc['fullName']}\\nDescription: {doc['description']}\\nActivities: {doc['activities']}\\nTopics: {doc['topics']}\\nWeather Info: {doc['weatherInfo']}\\nAddress: {doc['addresses']}\\n\\n\"\n",
    "    \n",
    "    prompt = prompt_template.format(question=query, context=context).strip()\n",
    "    return prompt\n",
    "\n",
    "# Function to call Hugging Face API\n",
    "def llm(prompt):\n",
    "    print('\\n\\n[DEBUG] Calling HF API for llm response...')\n",
    "    response = llm_h.invoke(prompt) \n",
    "    print(response)\n",
    "    return response  \n",
    "\n",
    "# Main RAG function\n",
    "def rag(query):\n",
    "    print('\\n\\n[DEBUG] Running RAG Pipeline...')\n",
    "    # Perform search to get relevant documents\n",
    "    search_results = search_elasticsearch(query)\n",
    "    # Build prompt with search results\n",
    "    prompt = build_prompt(query, search_results)\n",
    "    print(prompt)\n",
    "    # Get answer from Hugging Face model\n",
    "    answer = llm(prompt)\n",
    "    return answer\n",
    "\n",
    "# Example query\n",
    "query = 'What activities can I do at Acadia National Park?'\n",
    "answer = rag(query)\n",
    "print(answer)\n"
   ]
  },
  {
   "cell_type": "code",
   "execution_count": 40,
   "id": "2d686cca-ab0a-4d97-ad38-4d832908252d",
   "metadata": {},
   "outputs": [
    {
     "name": "stdout",
     "output_type": "stream",
     "text": [
      "\n",
      "\n",
      "[DEBUG] Running RAG Pipeline...\n",
      "You're a park information assistant. Answer the QUESTION based on the CONTEXT from the parks database.\n",
      "Use only the facts from the CONTEXT when answering the QUESTION.\n",
      "\n",
      "QUESTION: how many national parks are there in Kentucky state ? give me only full names of them. \n",
      "\n",
      "CONTEXT: \n",
      "Full Name: Redwood National and State Parks\n",
      "Description: Most people know Redwood as home to the tallest trees on Earth. But the Parks also protect vast prairies, oak woodlands, wild rivers, and 40 miles of rugged coastline. People have lived in this verdant landscape since time immemorial. Together, the National Park Service and California State Parks are managing and restoring these lands for the inspiration, enjoyment, and education of all.\n",
      "Activities: Arts and Culture Cultural Demonstrations Auto and ATV Scenic Driving Biking Mountain Biking Road Biking Camping Backcountry Camping Car or Front Country Camping Horse Camping (see also Horse/Stock Use) RV Camping Fishing Saltwater Fishing Food Picnicking Guided Tours Self-Guided Tours - Walking Self-Guided Tours - Auto Hiking Backcountry Hiking Front-Country Hiking Horse Trekking Horse Camping (see also camping) Horseback Riding Paddling Canoeing Kayaking Stand Up Paddleboarding Whitewater Rafting Junior Ranger Program Surfing Swimming Saltwater Swimming Wildlife Watching Birdwatching Park Film Shopping Bookstore and Park Store\n",
      "Topics: Colonization and Settlement Farming and  Agriculture Ranches Industry Mills Logging and Timber Cutting Maritime Coastal Defenses Native American Heritage Social Movements Conservation Movement Transportation Roads, Routes and Highways Tragic Events Massacres Wars and Conflicts Tribal Conflicts Indian and Frontier Wars Westward Expansion Homesteading Animals Birds Cats (wild) Elk Fish Climate Change Fire Forests and Woodlands Coniferous Forests Geology Groundwater Grasslands Prairies Oceans Whales River and Riparian Scenic Views Unique Species Rare Endangered Watersheds Headwaters Wilderness\n",
      "Weather Info: Visitors should be prepared for cooler and damp weather. Dress in layers and expect to get wet. Year-round temperatures along California's redwood coast: mid-40s°F (7°C) to mid-60s°F (18°C). Summer can be foggy, with highs occasionally reaching low 70s°F (20°C). Winters are cooler with considerable rain. October through April averages 60-80 inches of rain over the region.\n",
      "Address: 1111 Second Street, Crescent City, CA, US\n",
      "\n",
      "Full Name: Mammoth Cave National Park\n",
      "Description: Rolling hills, deep river valleys, and the world's longest known cave system. Mammoth Cave National Park is home to thousands of years of human history and a rich diversity of plant and animal life, earning it the title of UNESCO World Heritage Site and International Biosphere Reserve.\n",
      "Activities: Astronomy Stargazing Biking Boating Camping Backcountry Camping Canoe or Kayak Camping Car or Front Country Camping Horse Camping (see also Horse/Stock Use) Group Camping RV Camping Caving Fishing Freshwater Fishing Food Dining Picnicking Guided Tours Self-Guided Tours - Walking Hands-On Hiking Backcountry Hiking Front-Country Hiking Horse Trekking Horse Camping (see also camping) Horseback Riding Paddling Canoeing Canoe or Kayak Camping Kayaking Junior Ranger Program Wildlife Watching Park Film Shopping Bookstore and Park Store\n",
      "Topics: Architecture and Building African American Heritage Archeology Burial, Cemetery and Gravesite Enslavement Industry Mining Medicine Hospital Monuments and Memorials Native American Heritage Religion and Spirituality Churches Transportation Trains and Railroads Wars and Conflicts War of 1812 World War I Women's History Ancient Seas Animals Birds Fish Caves, Caverns and Karst Climate Change Fire Forests and Woodlands Fossils and Paleontology Geology Mineral Deposits Groundwater Freshwater Springs Natural Sounds Night Sky Astronomy River and Riparian Rock Landscapes and Features Scenic Views Trails Water Trails Unique Species Endangered Watersheds Wetlands\n",
      "Weather Info: Kentucky has a moderate climate with warm, yet moist conditions. Summers average in the high 80s; winters average in the low 40s. Southern Kentucky, where Mammoth Cave is located, receives the highest average precipitation for the state, about 50 inches per year, mostly in spring. Winter can bring mild to moderate snow and ice. Storms happen year-round, and can include tornadoes and flooding in low-lying areas, but severe weather is infrequent. The temperature deep in the cave is a constant 54°F (12°C).\n",
      "Address: 1 Visitor Center Parkway, Mammoth Cave, KY, US\n",
      "\n",
      "\n",
      "[DEBUG] Calling HF API for llm response...\n",
      "\n",
      "\n",
      "There are two national parks in Kentucky state. The full names of them are Mammoth Cave National Park and no other park was provided in the context.\n",
      "\n",
      "\n",
      "There are two national parks in Kentucky state. The full names of them are Mammoth Cave National Park and no other park was provided in the context.\n"
     ]
    }
   ],
   "source": [
    "query = 'how many national parks are there in Kentucky state ? give me only full names of them. '\n",
    "answer = rag(query)\n",
    "print(answer)"
   ]
  },
  {
   "cell_type": "code",
   "execution_count": 41,
   "id": "ff9923d0-7282-4c34-86f8-7832f2b4a7e0",
   "metadata": {},
   "outputs": [
    {
     "name": "stdout",
     "output_type": "stream",
     "text": [
      "\n",
      "\n",
      "[DEBUG] Running RAG Pipeline...\n",
      "You're a park information assistant. Answer the QUESTION based on the CONTEXT from the parks database.\n",
      "Use only the facts from the CONTEXT when answering the QUESTION.\n",
      "\n",
      "QUESTION: In which state channel islands is located ?\n",
      "\n",
      "CONTEXT: \n",
      "Full Name: Channel Islands National Park\n",
      "Description: Channel Islands National Park encompasses five remarkable islands and their ocean environment, preserving and protecting a wealth of natural and cultural resources. Isolation over thousands of years has created unique animals, plants, and archeological resources found nowhere else on Earth and helped preserve a place where visitors can experience coastal southern California as it once was.\n",
      "Activities: Astronomy Stargazing Boating Motorized Boating Sailing Boat Tour Camping Backcountry Camping Canoe or Kayak Camping Group Camping Compass and GPS Orienteering Fishing Saltwater Fishing Food Picnicking Guided Tours Self-Guided Tours - Walking Boat Tour Hiking Backcountry Hiking Front-Country Hiking Off-Trail Permitted Hiking Paddling Canoe or Kayak Camping Kayaking Stand Up Paddleboarding Junior Ranger Program SCUBA Diving Snorkeling Surfing Swimming Saltwater Swimming Wildlife Watching Birdwatching Park Film Museum Exhibits Shopping Bookstore and Park Store\n",
      "Topics: Architecture and Building Archeology Colonization and Settlement Commerce Trade Explorers and Expeditions Farming and  Agriculture Ranches Maritime Coastal Defenses Maritime - Military Lighthouses Piracy and Privateering Ships and Shipwrecks Military US Navy US Coast Guard Monuments and Memorials Native American Heritage Animals Birds Fish Climate Change Coasts, Islands and Atolls Dunes Estuaries and Mangroves Fire Forests and Woodlands Fossils and Paleontology Geology Grasslands Mountains Natural Sounds Night Sky Astronomy Oceans Whales River and Riparian Scenic Views Thickets and Shrublands Trails Unique Species Rare Endangered Watersheds Wetlands Marshes Wilderness\n",
      "Weather Info: In general, the islands have a Mediterranean climate year-round. Temperatures are relatively stable, with highs averaging in the mid-60s (°F) and lows in the low-50s. However, there are seasonal differences that visitors should take into consideration when visiting the park. In addition, visitors also should be aware that ocean and weather conditions vary considerably from day-to-day and island-to-island. For more information visit: http://www.nps.gov/chis/planyourvisit/weather.htm\n",
      "Address: 1901 Spinnaker Drive, Ventura, CA, US\n",
      "\n",
      "Full Name: Grand Canyon National Park\n",
      "Description: Entirely within the state of Arizona, the park encompasses 278 miles (447 km) of the Colorado River and adjacent uplands. Located on the ancestral homelands of 11 present day Tribal Communities, Grand Canyon is one of the most spectacular examples of erosion anywhere in the world—a mile deep canyon unmatched in the incomparable vistas it offers visitors from both north and south rims.\n",
      "Activities: Arts and Culture Cultural Demonstrations Auto and ATV Scenic Driving Astronomy Stargazing Biking Road Biking Boating Camping Backcountry Camping Car or Front Country Camping Horse Camping (see also Horse/Stock Use) Fishing Food Flying Guided Tours Hands-On Volunteer Vacation Hiking Backcountry Hiking Front-Country Hiking Horse Trekking Paddling Whitewater Rafting Junior Ranger Program Wildlife Watching Birdwatching Park Film Museum Exhibits Shopping Bookstore and Park Store\n",
      "Topics: Architecture and Building Archeology Arts Photography Aviation Burial, Cemetery and Gravesite Colonization and Settlement Engineering Explorers and Expeditions Native American Heritage Schools and Education Transportation Trains and Railroads Tragic Events Animals Birds Bison Cats (wild) Elk Fish Caves, Caverns and Karst Fire Forests and Woodlands Fossils and Paleontology Geology Groundwater Freshwater Springs Grasslands Night Sky Astronomy River and Riparian Rock Landscapes and Features Scenic Views Trails Unique Species Endangered Watersheds\n",
      "Weather Info: This weather varies with cold winters and mild pleasant summers, moderate humidity, and considerable diurnal temperature changes at the higher elevations, with hot and drier summers at the bottom of the Grand Canyon along with cool damp winters. Summer thunderstorms and winter snowfall adds to the weather variety in this region.\n",
      "Address: 20 South Entrance Road, Grand Canyon National Park Headquarters, Grand Canyon, AZ, US\n",
      "\n",
      "\n",
      "[DEBUG] Calling HF API for llm response...\n",
      "\n",
      "\n",
      "Based on the context provided, Channel Islands National Park is located in the state of California.\n",
      "\n",
      "\n",
      "Based on the context provided, Channel Islands National Park is located in the state of California.\n"
     ]
    }
   ],
   "source": [
    "query = 'In which state channel islands is located ?'\n",
    "answer = rag(query)\n",
    "print(answer)"
   ]
  },
  {
   "cell_type": "code",
   "execution_count": 74,
   "id": "c6ed599d-97c3-4297-a219-bcb2e1d78ba6",
   "metadata": {},
   "outputs": [
    {
     "data": {
      "application/vnd.jupyter.widget-view+json": {
       "model_id": "08e5941821bb496bb7e36a414a0b7ece",
       "version_major": 2,
       "version_minor": 0
      },
      "text/plain": [
       "modules.json:   0%|          | 0.00/349 [00:00<?, ?B/s]"
      ]
     },
     "metadata": {},
     "output_type": "display_data"
    },
    {
     "data": {
      "application/vnd.jupyter.widget-view+json": {
       "model_id": "4bfb93c6a8034c8fa3f50febb6344cbb",
       "version_major": 2,
       "version_minor": 0
      },
      "text/plain": [
       "config_sentence_transformers.json:   0%|          | 0.00/116 [00:00<?, ?B/s]"
      ]
     },
     "metadata": {},
     "output_type": "display_data"
    },
    {
     "data": {
      "application/vnd.jupyter.widget-view+json": {
       "model_id": "f774bf5a724d4d5690edc80a2759d0f4",
       "version_major": 2,
       "version_minor": 0
      },
      "text/plain": [
       "README.md:   0%|          | 0.00/10.6k [00:00<?, ?B/s]"
      ]
     },
     "metadata": {},
     "output_type": "display_data"
    },
    {
     "data": {
      "application/vnd.jupyter.widget-view+json": {
       "model_id": "cb1c0e046f74496580617d29f6857a78",
       "version_major": 2,
       "version_minor": 0
      },
      "text/plain": [
       "sentence_bert_config.json:   0%|          | 0.00/53.0 [00:00<?, ?B/s]"
      ]
     },
     "metadata": {},
     "output_type": "display_data"
    },
    {
     "data": {
      "application/vnd.jupyter.widget-view+json": {
       "model_id": "7797896c1cd143c49b09a627eb49d755",
       "version_major": 2,
       "version_minor": 0
      },
      "text/plain": [
       "config.json:   0%|          | 0.00/571 [00:00<?, ?B/s]"
      ]
     },
     "metadata": {},
     "output_type": "display_data"
    },
    {
     "data": {
      "application/vnd.jupyter.widget-view+json": {
       "model_id": "b3080defa9974735bb69774f325289df",
       "version_major": 2,
       "version_minor": 0
      },
      "text/plain": [
       "model.safetensors:   0%|          | 0.00/438M [00:00<?, ?B/s]"
      ]
     },
     "metadata": {},
     "output_type": "display_data"
    },
    {
     "data": {
      "application/vnd.jupyter.widget-view+json": {
       "model_id": "e46057ef00e44f309945243154327140",
       "version_major": 2,
       "version_minor": 0
      },
      "text/plain": [
       "tokenizer_config.json:   0%|          | 0.00/363 [00:00<?, ?B/s]"
      ]
     },
     "metadata": {},
     "output_type": "display_data"
    },
    {
     "data": {
      "application/vnd.jupyter.widget-view+json": {
       "model_id": "b36bf77c7bb44312a5e27af56478da0a",
       "version_major": 2,
       "version_minor": 0
      },
      "text/plain": [
       "vocab.txt:   0%|          | 0.00/232k [00:00<?, ?B/s]"
      ]
     },
     "metadata": {},
     "output_type": "display_data"
    },
    {
     "data": {
      "application/vnd.jupyter.widget-view+json": {
       "model_id": "c093e5f2ffff4ad181ad2a2252ff4054",
       "version_major": 2,
       "version_minor": 0
      },
      "text/plain": [
       "tokenizer.json:   0%|          | 0.00/466k [00:00<?, ?B/s]"
      ]
     },
     "metadata": {},
     "output_type": "display_data"
    },
    {
     "data": {
      "application/vnd.jupyter.widget-view+json": {
       "model_id": "7c72f11cc7d844c58efa226e5ffe9c7a",
       "version_major": 2,
       "version_minor": 0
      },
      "text/plain": [
       "special_tokens_map.json:   0%|          | 0.00/239 [00:00<?, ?B/s]"
      ]
     },
     "metadata": {},
     "output_type": "display_data"
    },
    {
     "data": {
      "application/vnd.jupyter.widget-view+json": {
       "model_id": "c63c4e8730d64c4b8cde3850bd0d6d84",
       "version_major": 2,
       "version_minor": 0
      },
      "text/plain": [
       "1_Pooling/config.json:   0%|          | 0.00/190 [00:00<?, ?B/s]"
      ]
     },
     "metadata": {},
     "output_type": "display_data"
    }
   ],
   "source": [
    "from sentence_transformers import SentenceTransformer\n",
    "model = SentenceTransformer(\"all-mpnet-base-v2\")"
   ]
  },
  {
   "cell_type": "code",
   "execution_count": 75,
   "id": "97255dea-daa5-4aa4-86a3-04734bac4310",
   "metadata": {},
   "outputs": [
    {
     "data": {
      "text/plain": [
       "768"
      ]
     },
     "execution_count": 75,
     "metadata": {},
     "output_type": "execute_result"
    }
   ],
   "source": [
    "len(model.encode(\"This is a simple sentence\"))\n"
   ]
  },
  {
   "cell_type": "code",
   "execution_count": null,
   "id": "93c919fa-84f8-4b99-bc74-fd4e7f63a47e",
   "metadata": {},
   "outputs": [],
   "source": []
  }
 ],
 "metadata": {
  "kernelspec": {
   "display_name": "rag_zoom",
   "language": "python",
   "name": "python3"
  },
  "language_info": {
   "codemirror_mode": {
    "name": "ipython",
    "version": 3
   },
   "file_extension": ".py",
   "mimetype": "text/x-python",
   "name": "python",
   "nbconvert_exporter": "python",
   "pygments_lexer": "ipython3",
   "version": "3.9.0"
  }
 },
 "nbformat": 4,
 "nbformat_minor": 5
}
